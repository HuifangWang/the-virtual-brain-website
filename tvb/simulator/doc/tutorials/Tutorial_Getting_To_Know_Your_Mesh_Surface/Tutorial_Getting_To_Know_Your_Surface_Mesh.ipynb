{
 "metadata": {
  "name": "Tutorial_Getting_To_Know_Your_Surface_Mesh"
 }, 
 "nbformat": 2, 
 "worksheets": [
  {
   "cells": [
    {
     "cell_type": "markdown", 
     "source": [
      "Tutorial: Getting To Know Your Surface Mesh", 
      "============================================", 
      "", 
      "Surface level simulations in TVB use a triangular mesh surface to represent the ", 
      "folded cortical surface, similar triangular mesh surfaces are used to represent ", 
      "the boundaries between brain and skull, skull and skin, and skin and air, that ", 
      "are used in the calculation of EEG and MEG forward solutions. This tutorial ", 
      "covers a few basic ways of looking at the properties of these surfaces.", 
      "", 
      "One of the things we'll be looking for is how well regularised the mesh is -- a", 
      "well regularised a mesh has a narrow distribution of edge lengths and triangle ", 
      "areas. For most uses in TVB, it is important to have a well regularised mesh. "
     ]
    }, 
    {
     "cell_type": "markdown", 
     "source": [
      "Setup", 
      "-----", 
      "", 
      "We'll start as usual by loading a few things we need via the \"lab\":"
     ]
    }, 
    {
     "cell_type": "code", 
     "collapsed": true, 
     "input": [
      "from tvb.simulator.lab import surfaces, plot_surface, surface_orientation, surface_pattern, figure, hist, title, xlabel"
     ], 
     "language": "python", 
     "outputs": [], 
     "prompt_number": 6
    }, 
    {
     "cell_type": "markdown", 
     "source": [
      "Load the Default Cortical Surface", 
      "----------------------------------", 
      "", 
      "**Note:** *The Cortex requires a LocalConnectivity to be defined over the entire surface, ", 
      "the configure() method below will calculate this LocalConnectivity which takes a minute or so...*"
     ]
    }, 
    {
     "cell_type": "code", 
     "collapsed": false, 
     "input": [
      "cortex = surfaces.Cortex()", 
      "cortex.configure()"
     ], 
     "language": "python", 
     "outputs": [
      {
       "output_type": "stream", 
       "stream": "stdout", 
       "text": [
        "2013-03-01 07:29:42,790 - INFO - tvb.datatypes.surfaces_scientific - Computing local connectivity matrix"
       ]
      }, 
      {
       "output_type": "stream", 
       "stream": "stdout", 
       "text": [
        "2013-03-01 07:31:02,408 - INFO - tvb.datatypes.surfaces_data - Mapping geodesic distance through the LocalConnectivity."
       ]
      }
     ], 
     "prompt_number": 2
    }, 
    {
     "cell_type": "markdown", 
     "source": [
      "The Surfaces in TVB have a built in self check method, so we'll run that now", 
      "to make sure the Cortex we just loaded does not have any defects from the point", 
      "of view of TVB."
     ]
    }, 
    {
     "cell_type": "code", 
     "collapsed": false, 
     "input": [
      "# Run self check: for Cortex you want (True, 4, [], [], []) to be returned", 
      "cortex.check()"
     ], 
     "language": "python", 
     "outputs": [
      {
       "output_type": "pyout", 
       "prompt_number": 3, 
       "text": [
        "(True, 4, [], [], [])"
       ]
      }
     ], 
     "prompt_number": 3
    }, 
    {
     "cell_type": "markdown", 
     "source": [
      "", 
      "The most important thing returned by the check is the first entry in the tuple, ", 
      "if everything is fine then this will be True, the subsequent four entries let ", 
      "us know what is wrong if things don't check out ok."
     ]
    }, 
    {
     "cell_type": "markdown", 
     "source": [
      "Take A Look At Its Properties", 
      "------------------------------", 
      "", 
      "As our surface is one of TVB's Datatypes, the first thing we can do is take a look at the summary information:"
     ]
    }, 
    {
     "cell_type": "code", 
     "collapsed": false, 
     "input": [
      "cortex.summary_info"
     ], 
     "language": "python", 
     "outputs": [
      {
       "output_type": "pyout", 
       "prompt_number": 4, 
       "text": [
        "{&apos;Edge lengths, longest (mm)&apos;: 7.7567185378211327,", 
        " &apos;Edge lengths, mean (mm)&apos;: 3.9760529288676785,", 
        " &apos;Edge lengths, shortest (mm)&apos;: 0.6638075672007665,", 
        " &apos;Number of edges&apos;: 49140,", 
        " &apos;Number of regions&apos;: 74,", 
        " &apos;Number of triangles&apos;: 32760,", 
        " &apos;Number of vertices&apos;: 16384,", 
        " &apos;Region area, maximum (mm:math:&#96;^2&#96;)&apos;: 9119.4540365252615,", 
        " &apos;Region area, mean (mm:math:&#96;^2&#96;)&apos;: 3366.2542250541251,", 
        " &apos;Region area, minimum (mm:math:&#96;^2&#96;)&apos;: 366.48271886512993,", 
        " &apos;Surface type&apos;: &apos;Cortex&apos;}"
       ]
      }
     ], 
     "prompt_number": 4
    }, 
    {
     "cell_type": "markdown", 
     "source": [
      "We can see a number of basic properties of the mesh here, such as the number of vertices,", 
      "edges and triangles making up the surface. A summary of the edge lengths is also included,", 
      "this is useful to know what scale of features, eg LocalConnectivity, we can expect to be ", 
      "able to represent on this surface. As a Cortex also has a large-scale Connectivity ", 
      "associated with it we see some \"Region\" information as well, here it is TVB's default 74", 
      "region connectivity matrix. As we can see, this Connectivity parcellates the cortex into ", 
      "regions with a fairly broad range of sizes...", 
      "", 
      "Looking in more detail, we can plot the distributions of things like edge lengths and ", 
      "triangle areas to see in more detail whether the mesh is well regularised..."
     ]
    }, 
    {
     "cell_type": "code", 
     "collapsed": false, 
     "input": [
      "figure()", 
      "hist(cortex.edge_lengths, bins=100)", 
      "title(\"Distribution of Edge Lengths\")", 
      "xlabel(\"mm\")", 
      "", 
      "figure()", 
      "hist(cortex.triangle_areas, bins=100)", 
      "title(\"Distribution of Triangle Areas\")", 
      "xlabel(\"mm$^2$\")"
     ], 
     "language": "python", 
     "outputs": [
      {
       "output_type": "pyout", 
       "prompt_number": 8, 
       "text": [
        "&lt;matplotlib.text.Text at 0x2ebb3110&gt;"
       ]
      }, 
      {
       "output_type": "display_data", 
       "png": "[encoded data removed]"
      }, 
      {
       "output_type": "display_data", 
       "png": "[encoded data removed]"
      }
     ], 
     "prompt_number": 8
    }, 
    {
     "cell_type": "markdown", 
     "source": [
      "**NOTE: MY MAYAVI IS SEG-FAULTING SO I CAN'T CURRENTLY CHECK BEYOND HERE**", 
      "", 
      "look at the mesh itself"
     ]
    }, 
    {
     "cell_type": "code", 
     "collapsed": true, 
     "input": [
      "plot_surface(cortex)"
     ], 
     "language": "python", 
     "outputs": [], 
     "prompt_number": "*"
    }, 
    {
     "cell_type": "markdown", 
     "source": [
      "check the orientation"
     ]
    }, 
    {
     "cell_type": "code", 
     "collapsed": true, 
     "input": [
      "surface_orientation(cortex)"
     ], 
     "language": "python", 
     "outputs": [], 
     "prompt_number": "&nbsp;"
    }, 
    {
     "cell_type": "markdown", 
     "source": [
      "plot vertex degree on surface"
     ]
    }, 
    {
     "cell_type": "code", 
     "collapsed": true, 
     "input": [
      "surface_pattern(cortex, [len(x) for x in cortex.vertex_neighbours])"
     ], 
     "language": "python", 
     "outputs": [], 
     "prompt_number": "&nbsp;"
    }, 
    {
     "cell_type": "markdown", 
     "source": [
      "plot other measures for all vertices on surface"
     ]
    }, 
    {
     "cell_type": "code", 
     "collapsed": true, 
     "input": [
      "surface_pattern(..."
     ], 
     "language": "python", 
     "outputs": [], 
     "prompt_number": "&nbsp;"
    }, 
    {
     "cell_type": "markdown", 
     "source": [
      "plot the connectivity regions mapped to the cortex"
     ]
    }, 
    {
     "cell_type": "code", 
     "collapsed": true, 
     "input": [
      "surface_parcellation(..."
     ], 
     "language": "python", 
     "outputs": [], 
     "prompt_number": "&nbsp;"
    }, 
    {
     "cell_type": "markdown", 
     "source": [
      "That's All Folks... so, what's next?", 
      "=====================================", 
      "", 
      "We've covered some basic ways of checking the quality and other properties of", 
      "a mesh surface. When loading a new surface into TVB, these represent the sorts", 
      "of things you should be checking to make sure your surface will work well with", 
      "TVB."
     ]
    }
   ]
  }
 ]
}